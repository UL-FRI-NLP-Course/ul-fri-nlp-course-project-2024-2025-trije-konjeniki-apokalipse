{
 "cells": [
  {
   "cell_type": "code",
   "execution_count": 1,
   "id": "2f83be7d",
   "metadata": {},
   "outputs": [
    {
     "name": "stderr",
     "output_type": "stream",
     "text": [
      "d:\\5_programi\\590_programming\\Miniconda3\\envs\\nlp-project\\Lib\\site-packages\\tqdm\\auto.py:21: TqdmWarning: IProgress not found. Please update jupyter and ipywidgets. See https://ipywidgets.readthedocs.io/en/stable/user_install.html\n",
      "  from .autonotebook import tqdm as notebook_tqdm\n",
      "Loading checkpoint shards: 100%|██████████| 2/2 [00:02<00:00,  1.03s/it]\n",
      "Device set to use cpu\n"
     ]
    }
   ],
   "source": [
    "from transformers import pipeline\n",
    "\n",
    "model_id = \"cjvt/GaMS-2B-Instruct\"\n",
    "\n",
    "pline = pipeline(\n",
    "    \"text-generation\",\n",
    "    model=model_id,\n",
    "    device_map=\"auto\" \n",
    ")\n"
   ]
  },
  {
   "cell_type": "code",
   "execution_count": 2,
   "id": "c8fd049f",
   "metadata": {},
   "outputs": [
    {
     "name": "stdout",
     "output_type": "stream",
     "text": [
      "Model's response: Najpomembnejši dogodek v slovenski zgodovini je bil razpad Avstro-Ogrske in priključitev Prekmurja k Sloveniji.\n",
      "\n"
     ]
    }
   ],
   "source": [
    "import jinja2\n",
    "# Example of response generation\n",
    "message = [{\"role\": \"user\", \"content\": \"Kateri je najpomembnejši dogodek v slovenski zgodovini?\"}]\n",
    "response = pline(message, max_new_tokens=512)\n",
    "print(\"Model's response:\", response[0][\"generated_text\"][-1][\"content\"])\n"
   ]
  },
  {
   "cell_type": "code",
   "execution_count": 9,
   "id": "4b9cbb9f",
   "metadata": {},
   "outputs": [],
   "source": [
    "\n",
    "# Example of conversation chain\n",
    "new_message = response[0][\"generated_text\"]\n",
    "new_message.append({\"role\": \"user\", \"content\": \"Lahko bolj podrobno opišeš ta dogodek?\"})\n",
    "new_message = new_message[:3]\n"
   ]
  },
  {
   "cell_type": "code",
   "execution_count": 10,
   "id": "6fd3cf1c",
   "metadata": {},
   "outputs": [
    {
     "name": "stdout",
     "output_type": "stream",
     "text": [
      "Model's response: Razpad Avstro-Ogrske je bil posledica prve svetovne vojne in razpada Avstro-Ogrskega imperija. Po vojni je bila ustanovljena Kraljevina SHS, ki je vključevala večino slovenskega etničnega ozemlja, vključno s Prekmurjem. Prekmurje je bilo dolgo časa pod madžarsko oblastjo, zato je bilo to priključitev še posebej pomembno za ohranjanje slovenskega jezika in kulture.\n",
      "\n"
     ]
    }
   ],
   "source": [
    "\n",
    "\n",
    "response = pline(new_message, max_new_tokens=300)\n",
    "print(\"Model's response:\", response[0][\"generated_text\"][-1][\"content\"])\n"
   ]
  },
  {
   "cell_type": "code",
   "execution_count": null,
   "id": "aab60fbc",
   "metadata": {},
   "outputs": [],
   "source": [
    "prompt = \"\"\"Classify the text into neutral, negative or positive.\n",
    "Here are some annotated examples:\n",
    "Example 1:\n",
    "Text: 'This restaurant is the best I've ever been to. The food was delicious and the staff were very friendly.'\n",
    "Sentiment: positive\n",
    "\n",
    "Example 2:\n",
    "Text: 'I was disappointed with my purchase. The product broke within a week.'\n",
    "Sentiment: negative\n",
    "\n",
    "Example 3:\n",
    "Text: 'The movie was okay, not great but not bad either.'\n",
    "Sentiment: neutral\n",
    "\n",
    "Text: 'I absolutely love the new Spider-Man movie. It's incredibly well done!'\n",
    "Sentiment:\"\"\"\n",
    "res = pipeline(prompt)\n",
    "print(res[0][\"generated_text\"])"
   ]
  }
 ],
 "metadata": {
  "kernelspec": {
   "display_name": "nlp-project",
   "language": "python",
   "name": "python3"
  },
  "language_info": {
   "codemirror_mode": {
    "name": "ipython",
    "version": 3
   },
   "file_extension": ".py",
   "mimetype": "text/x-python",
   "name": "python",
   "nbconvert_exporter": "python",
   "pygments_lexer": "ipython3",
   "version": "3.11.11"
  }
 },
 "nbformat": 4,
 "nbformat_minor": 5
}
