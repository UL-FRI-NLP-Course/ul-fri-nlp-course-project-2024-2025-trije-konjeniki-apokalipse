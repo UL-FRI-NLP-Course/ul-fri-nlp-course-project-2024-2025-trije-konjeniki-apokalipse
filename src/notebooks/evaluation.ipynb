{
 "cells": [
  {
   "cell_type": "code",
   "execution_count": 1,
   "id": "c8d02164",
   "metadata": {},
   "outputs": [],
   "source": [
    "from nltk.translate.bleu_score import sentence_bleu\n",
    "import warnings\n",
    "warnings.filterwarnings(\"ignore\")\n",
    "\n",
    "import pandas as pd\n",
    "import json"
   ]
  },
  {
   "cell_type": "code",
   "execution_count": 2,
   "id": "32ee5c91",
   "metadata": {},
   "outputs": [],
   "source": [
    "# Load the merged dataset and the results from finetuning\n",
    "df_merged = pd.read_csv(\n",
    "    '../data/parsed/reports_promet_merged.csv',\n",
    "    parse_dates=['report_datetime', 'info_datetime']\n",
    ")\n",
    "\n",
    "with open('../generated_reports_finetuning.json', 'r', encoding='utf-8') as f:\n",
    "    results_finetuning = json.load(f)"
   ]
  },
  {
   "cell_type": "code",
   "execution_count": 3,
   "id": "a516bf54",
   "metadata": {},
   "outputs": [
    {
     "data": {
      "text/html": [
       "<div>\n",
       "<style scoped>\n",
       "    .dataframe tbody tr th:only-of-type {\n",
       "        vertical-align: middle;\n",
       "    }\n",
       "\n",
       "    .dataframe tbody tr th {\n",
       "        vertical-align: top;\n",
       "    }\n",
       "\n",
       "    .dataframe thead th {\n",
       "        text-align: right;\n",
       "    }\n",
       "</style>\n",
       "<table border=\"1\" class=\"dataframe\">\n",
       "  <thead>\n",
       "    <tr style=\"text-align: right;\">\n",
       "      <th></th>\n",
       "      <th>Mean BLEU Score</th>\n",
       "    </tr>\n",
       "  </thead>\n",
       "  <tbody>\n",
       "    <tr>\n",
       "      <th>Fine-Tuned</th>\n",
       "      <td>0.074468</td>\n",
       "    </tr>\n",
       "    <tr>\n",
       "      <th>Baseline</th>\n",
       "      <td>0.072162</td>\n",
       "    </tr>\n",
       "  </tbody>\n",
       "</table>\n",
       "</div>"
      ],
      "text/plain": [
       "            Mean BLEU Score\n",
       "Fine-Tuned         0.074468\n",
       "Baseline           0.072162"
      ]
     },
     "execution_count": 3,
     "metadata": {},
     "output_type": "execute_result"
    }
   ],
   "source": [
    "bleu_scores_finetuned = []\n",
    "bleu_scores_baseline = []\n",
    "\n",
    "for res in results_finetuning:\n",
    "    # Tokenize the actual and generated reports\n",
    "    actual = res['actual_report']\n",
    "    generated = res['generated_report']\n",
    "    actual_tokens = actual.split()\n",
    "    generated_tokens = generated.split()\n",
    "\n",
    "    # Get the entry from the merged dataset and take the raw info as the baseline\n",
    "    mask = df_merged.report_content.str.strip() == actual\n",
    "    row = df_merged[mask].head(1).iloc[0]\n",
    "    baseline = ''\n",
    "    if not pd.isna(row['info_aggregated_urgent']): baseline += row['info_aggregated_urgent'] + '\\n'\n",
    "    if not pd.isna(row['info_aggregated_basic']): baseline += row['info_aggregated_basic'] + '\\n'\n",
    "    basline_tokens = baseline.split()\n",
    "\n",
    "    # Compute BLEU score\n",
    "    bleu_fine = sentence_bleu([actual_tokens], generated_tokens)\n",
    "    blue_base = sentence_bleu([actual_tokens], basline_tokens)\n",
    "    bleu_scores_baseline.append(blue_base)\n",
    "    bleu_scores_finetuned.append(bleu_fine)\n",
    "\n",
    "df_bleu = pd.DataFrame({\n",
    "    'Fine-Tuned': bleu_scores_finetuned,\n",
    "    'Baseline': bleu_scores_baseline\n",
    "})\n",
    "\n",
    "df_bleu.mean().to_frame('Mean BLEU Score')"
   ]
  },
  {
   "cell_type": "code",
   "execution_count": null,
   "id": "45259c1c",
   "metadata": {},
   "outputs": [],
   "source": []
  }
 ],
 "metadata": {
  "kernelspec": {
   "display_name": "nlp-project-tmp",
   "language": "python",
   "name": "python3"
  },
  "language_info": {
   "codemirror_mode": {
    "name": "ipython",
    "version": 3
   },
   "file_extension": ".py",
   "mimetype": "text/x-python",
   "name": "python",
   "nbconvert_exporter": "python",
   "pygments_lexer": "ipython3",
   "version": "3.11.12"
  }
 },
 "nbformat": 4,
 "nbformat_minor": 5
}
