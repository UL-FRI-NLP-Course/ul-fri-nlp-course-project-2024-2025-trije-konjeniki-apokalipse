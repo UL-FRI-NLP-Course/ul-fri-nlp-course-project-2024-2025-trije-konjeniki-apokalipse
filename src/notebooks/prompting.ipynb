{
 "cells": [
  {
   "cell_type": "code",
   "execution_count": 1,
   "id": "2f83be7d",
   "metadata": {},
   "outputs": [
    {
     "name": "stderr",
     "output_type": "stream",
     "text": [
      "d:\\5_programi\\590_programming\\Miniconda3\\envs\\nlp-project\\Lib\\site-packages\\tqdm\\auto.py:21: TqdmWarning: IProgress not found. Please update jupyter and ipywidgets. See https://ipywidgets.readthedocs.io/en/stable/user_install.html\n",
      "  from .autonotebook import tqdm as notebook_tqdm\n",
      "Loading checkpoint shards: 100%|██████████| 2/2 [00:02<00:00,  1.03s/it]\n",
      "Device set to use cpu\n"
     ]
    }
   ],
   "source": [
    "from transformers import pipeline\n",
    "\n",
    "model_id = \"cjvt/GaMS-2B-Instruct\"\n",
    "\n",
    "pline = pipeline(\n",
    "    \"text-generation\",\n",
    "    model=model_id,\n",
    "    device_map=\"auto\" \n",
    ")\n"
   ]
  },
  {
   "cell_type": "code",
   "execution_count": null,
   "id": "c8fd049f",
   "metadata": {},
   "outputs": [
    {
     "name": "stdout",
     "output_type": "stream",
     "text": [
      "Model's response: Najpomembnejši dogodek v slovenski zgodovini je bil razpad Avstro-Ogrske in priključitev Prekmurja k Sloveniji.\n",
      "\n"
     ]
    }
   ],
   "source": [
    "\n",
    "# Example of response generation\n",
    "message = [{\"role\": \"user\", \"content\": \"Kateri je najpomembnejši dogodek v slovenski zgodovini?\"}]\n",
    "response = pline(message, max_new_tokens=512)\n",
    "print(\"Model's response:\", response[0][\"generated_text\"][-1][\"content\"])\n"
   ]
  },
  {
   "cell_type": "code",
   "execution_count": 9,
   "id": "4b9cbb9f",
   "metadata": {},
   "outputs": [],
   "source": [
    "\n",
    "# Example of conversation chain\n",
    "new_message = response[0][\"generated_text\"]\n",
    "new_message.append({\"role\": \"user\", \"content\": \"Lahko bolj podrobno opišeš ta dogodek?\"})\n",
    "new_message = new_message[:3]\n"
   ]
  },
  {
   "cell_type": "code",
   "execution_count": 10,
   "id": "6fd3cf1c",
   "metadata": {},
   "outputs": [
    {
     "name": "stdout",
     "output_type": "stream",
     "text": [
      "Model's response: Razpad Avstro-Ogrske je bil posledica prve svetovne vojne in razpada Avstro-Ogrskega imperija. Po vojni je bila ustanovljena Kraljevina SHS, ki je vključevala večino slovenskega etničnega ozemlja, vključno s Prekmurjem. Prekmurje je bilo dolgo časa pod madžarsko oblastjo, zato je bilo to priključitev še posebej pomembno za ohranjanje slovenskega jezika in kulture.\n",
      "\n"
     ]
    }
   ],
   "source": [
    "\n",
    "\n",
    "response = pline(new_message, max_new_tokens=300)\n",
    "print(\"Model's response:\", response[0][\"generated_text\"][-1][\"content\"])\n"
   ]
  },
  {
   "cell_type": "code",
   "execution_count": 11,
   "id": "aab60fbc",
   "metadata": {},
   "outputs": [
    {
     "name": "stdout",
     "output_type": "stream",
     "text": [
      "Classify the text into neutral, negative or positive.\n",
      "Here are some annotated examples:\n",
      "Example 1:\n",
      "Text: 'This restaurant is the best I've ever been to. The food was delicious and the staff were very friendly.'\n",
      "Sentiment: positive\n",
      "\n",
      "Example 2:\n",
      "Text: 'I was disappointed with my purchase. The product broke within a week.'\n",
      "Sentiment: negative\n",
      "\n",
      "Example 3:\n",
      "Text: 'The movie was okay, not great but not bad either.'\n",
      "Sentiment: neutral\n",
      "\n",
      "Text: 'I absolutely love the new Spider-Man movie. It's incredibly well done!'\n",
      "Sentiment: positive\n",
      "\n",
      "Text: 'The weather forecast for the next few days looks pretty good.'\n",
      "Sentiment:\n"
     ]
    }
   ],
   "source": [
    "prompt = \"\"\"Classify the text into neutral, negative or positive.\n",
    "Here are some annotated examples:\n",
    "Example 1:\n",
    "Text: 'This restaurant is the best I've ever been to. The food was delicious and the staff were very friendly.'\n",
    "Sentiment: positive\n",
    "\n",
    "Example 2:\n",
    "Text: 'I was disappointed with my purchase. The product broke within a week.'\n",
    "Sentiment: negative\n",
    "\n",
    "Example 3:\n",
    "Text: 'The movie was okay, not great but not bad either.'\n",
    "Sentiment: neutral\n",
    "\n",
    "Text: 'I absolutely love the new Spider-Man movie. It's incredibly well done!'\n",
    "Sentiment:\"\"\"\n",
    "res = pline(prompt)\n",
    "print(res[0][\"generated_text\"])\n"
   ]
  },
  {
   "cell_type": "code",
   "execution_count": null,
   "id": "224f0162",
   "metadata": {},
   "outputs": [],
   "source": [
    "import pandas as pd\n",
    "\n",
    "DATA_PATH = \"../data/reports_promet_merged.csv\"\n",
    "\n",
    "data = pd.read_csv(DATA_PATH)\n"
   ]
  },
  {
   "cell_type": "code",
   "execution_count": 17,
   "id": "58e56868",
   "metadata": {},
   "outputs": [
    {
     "data": {
      "text/plain": [
       "report_id                                                                 0\n",
       "report_datetime                                         2022-01-01 06:00:00\n",
       "report_type                                            Prometne informacije\n",
       "report_path               ../data/RTVSlo/Podatki - rtvslo.si\\Promet 2022...\n",
       "report_content            Podatki o prometu.\\nPonekod po državi megla zm...\n",
       "info_id                                                             1283526\n",
       "info_datetime                                           2022-01-01 05:56:41\n",
       "info_aggregated_urgent                                                  NaN\n",
       "info_aggregated_basic     Vreme\\nPonekod po Sloveniji megla v pasovih zm...\n",
       "info_urgent                                                             NaN\n",
       "info_accidents                                                          NaN\n",
       "info_jams                                                               NaN\n",
       "info_weather              Ponekod po Sloveniji megla v pasovih zmanjšuje...\n",
       "info_obstacles                                                          NaN\n",
       "info_roadworks            Na primorski avtocesti je ponovno odprt priklj...\n",
       "info_warnings             Po Sloveniji velja med prazniki omejitev za to...\n",
       "info_basic                                                              NaN\n",
       "Name: 0, dtype: object"
      ]
     },
     "execution_count": 17,
     "metadata": {},
     "output_type": "execute_result"
    }
   ],
   "source": [
    "example = data.iloc[0]\n",
    "example"
   ]
  },
  {
   "cell_type": "code",
   "execution_count": null,
   "id": "805bcf3a",
   "metadata": {},
   "outputs": [
    {
     "data": {
      "text/plain": [
       "'Podatki o prometu.\\nPonekod po državi megla zmanjšuje vidljivost.\\nZaradi del je na vzhodni mariborski obvoznici v obe smeri zaprt prehitevalni pas med razcepom Dragučova in priključkom Pesnica.\\n'"
      ]
     },
     "execution_count": 18,
     "metadata": {},
     "output_type": "execute_result"
    }
   ],
   "source": [
    "example[\"report_content\"]"
   ]
  },
  {
   "cell_type": "code",
   "execution_count": null,
   "id": "0b3f3d14",
   "metadata": {},
   "outputs": [
    {
     "data": {
      "text/plain": [
       "'Vreme\\nPonekod po Sloveniji megla v pasovih zmanjšuje vidljivost. Prilagodite hitrost!\\nOmejitve za tovorna vozila\\nPo Sloveniji velja med prazniki omejitev za tovorna vozila z največjo dovoljeno maso nad 7,5 ton:\\n- danes, 1. 1., od 8. do 22. ure;\\n- v nedeljo, 2. 1., od 8. do 22. ure.\\nOd 30. decembra je v veljavi sprememba omejitve za tovorna vozila nad 7,5 ton. Več.\\nDela\\nNa primorski avtocesti je ponovno odprt priključek Črni Kal v obe smeri.'"
      ]
     },
     "execution_count": 19,
     "metadata": {},
     "output_type": "execute_result"
    }
   ],
   "source": [
    "example[\"info_aggregated_basic\"]"
   ]
  },
  {
   "cell_type": "code",
   "execution_count": 32,
   "id": "7161911c",
   "metadata": {},
   "outputs": [
    {
     "name": "stdout",
     "output_type": "stream",
     "text": [
      "Napiši poročilo iz podanih informacij. V primeru nujnih informacij jih obvezno vključi v poročilo, kot v primerih. \n",
      "Podanih imaš nekaj primerov.\n",
      "\n",
      "    PRIMER 4: \n",
      "\n",
      "        INFORMACIJE:\n",
      "            Nujne informacije: nan\n",
      "\n",
      "            Informacije: Vreme\n",
      "Ponekod po Sloveniji megla v pasovih zmanjšuje vidljivost. Prilagodite hitrost!\n",
      "Omejitve za tovorna vozila\n",
      "Po Sloveniji velja med prazniki omejitev za tovorna vozila z največjo dovoljeno maso nad 7,5 ton:\n",
      "- danes, 1. 1., od 8. do 22. ure;\n",
      "- v nedeljo, 2. 1., od 8. do 22. ure.\n",
      "Od 30. decembra je v veljavi sprememba omejitve za tovorna vozila nad 7,5 ton. Več.\n",
      "Dela\n",
      "Na primorski avtocesti je ponovno odprt priključek Črni Kal v obe smeri.\n",
      "\n",
      "        POROČILO:\n",
      "            Podatki o prometu.\n",
      "Zaradi del je na vzhodni mariborski obvoznici v obe smeri zaprt prehitevalni pas med razcepom Dragučova in priključkom Pesnica.\n",
      "Cesta čez prelaz Vršič je prevozna le za osebna vozila z zimsko opremo.\n",
      "Ponekod po državi megla zmanjšuje vidljivost.\n",
      "\n",
      "    \n",
      "    PRIMER 5: \n",
      "\n",
      "        INFORMACIJE:\n",
      "            Nujne informacije: nan\n",
      "\n",
      "            Informacije: Vreme\n",
      "Ponekod po Sloveniji megla zmanjšuje vidljivost. Prilagodite hitrost!\n",
      "Omejitve za tovorna vozila\n",
      "Po Sloveniji velja med prazniki omejitev za tovorna vozila z največjo dovoljeno maso nad 7,5 ton:\n",
      "- danes, 1. 1., od 8. do 22. ure;\n",
      "- v nedeljo, 2. 1., od 8. do 22. ure.\n",
      "Od 30. decembra je v veljavi sprememba omejitve za tovorna vozila nad 7,5 ton. Več.\n",
      "Dela\n",
      "Na primorski avtocesti je ponovno odprt priključek Črni Kal v obe smeri.\n",
      "\n",
      "        POROČILO:\n",
      "            Podatki o prometu.\n",
      "Zaradi del je na vzhodni mariborski obvoznici v obe smeri zaprt prehitevalni pas med razcepom Dragučova in priključkom Pesnica.\n",
      "Cesta čez prelaz Vršič je prevozna le za osebna vozila z zimsko opremo.\n",
      "Ponekod po državi megla zmanjšuje vidljivost.\n",
      "\n",
      "    \n",
      "    PRIMER 6: \n",
      "\n",
      "        INFORMACIJE:\n",
      "            Nujne informacije: nan\n",
      "\n",
      "            Informacije: Vreme\n",
      "Ponekod po Sloveniji megla v pasovih zmanjšuje vidljivost. Prilagodite hitrost!\n",
      "Omejitve za tovorna vozila\n",
      "Po Sloveniji velja med prazniki omejitev za tovorna vozila z največjo dovoljeno maso nad 7,5 ton:\n",
      "- danes, od 8. do 22. ure;\n",
      "- v nedeljo, 2. 1., od 8. do 22. ure.\n",
      "Od 30. decembra je v veljavi sprememba omejitve za tovorna vozila nad 7,5 ton. Več.\n",
      "Dela\n",
      "Na primorski avtocesti je ponovno odprt priključek Črni Kal v obe smeri.\n",
      "\n",
      "        POROČILO:\n",
      "            Podatki o prometu.\n",
      "Zaradi del je na vzhodni mariborski obvoznici v obe smeri zaprt prehitevalni pas med razcepom Dragučova in priključkom Pesnica.\n",
      "Ponekod po državi megla zmanjšuje vidljivost.\n",
      "\n",
      "    \n",
      "    PRIMER 7: \n",
      "\n",
      "        INFORMACIJE:\n",
      "            Nujne informacije: nan\n",
      "\n",
      "            Informacije: Vreme\n",
      "Ponekod po Sloveniji megla v pasovih zmanjšuje vidljivost. Prilagodite hitrost!\n",
      "Omejitve za tovorna vozila\n",
      "Po Sloveniji velja med prazniki omejitev za tovorna vozila z največjo dovoljeno maso nad 7,5 ton:\n",
      "- danes, od 8. do 22. ure;\n",
      "- v nedeljo, 2. 1., od 8. do 22. ure.\n",
      "Od 30. decembra je v veljavi sprememba omejitve za tovorna vozila nad 7,5 ton. Več.\n",
      "Dela\n",
      "Na primorski avtocesti je ponovno odprt priključek Črni Kal v obe smeri.\n",
      "\n",
      "        POROČILO:\n",
      "            Podatki o prometu.\n",
      "Zaradi del je na vzhodni mariborski obvoznici v obe smeri zaprt prehitevalni pas med razcepom Dragučova in priključkom Pesnica.\n",
      "Ponekod po državi megla zmanjšuje vidljivost.\n",
      "\n",
      "    \n",
      "        INFORMACIJE:\n",
      "            Nujne informacije: Pozor!\n",
      "Zaradi gorečega vozila je zaprta gorenjska avtocesta med Brezjem in predorom Ljubno proti Ljubljani. Obvoz po vzporedni regionalni cesti med priključkoma Brezje in Podtabor.\n",
      "\n",
      "            Informacije: Nesreče\n",
      "Zaradi gorečega vozila je zaprt vozni pas na gorenjski avtocesti med Brezjem in predorom Ljubno proti Ljubljani.\n",
      "Vreme\n",
      "Ponekod po Sloveniji megla v pasovih zmanjšuje vidljivost. Prilagodite hitrost!\n",
      "Omejitve za tovorna vozila\n",
      "Po Sloveniji velja med prazniki omejitev za tovorna vozila z največjo dovoljeno maso nad 7,5 ton:\n",
      "- danes do 22. ure;\n",
      "- v nedeljo, 2. januarja, od 8. do 22. ure.\n",
      "Od 30. decembra je v veljavi sprememba omejitve za tovorna vozila nad 7,5 ton. Več.\n",
      "\n",
      "        POROČILO:\n",
      "    \n"
     ]
    }
   ],
   "source": [
    "prompt = \"\"\"Napiši poročilo iz podanih informacij. V primeru nujnih informacij jih obvezno vključi v poročilo, kot v primerih. \n",
    "Podanih imaš nekaj primerov.\n",
    "\"\"\"\n",
    "\n",
    "examples = data.iloc[3:7]\n",
    "test_urgent = data.iloc[10][\"info_aggregated_urgent\"]\n",
    "test_basic = data.iloc[10][\"info_aggregated_basic\"]\n",
    "test_content = data.iloc[10][\"report_content\"]\n",
    "\n",
    "for inx, curr in examples.iterrows():\n",
    "    urgent = curr[\"info_aggregated_urgent\"]\n",
    "    basic = curr[\"info_aggregated_basic\"]\n",
    "    content = curr[\"report_content\"]\n",
    "\n",
    "    example_prompt = f\"\"\"\n",
    "    PRIMER {inx+1}: \n",
    "        \n",
    "        INFORMACIJE:\n",
    "            Nujne informacije: {urgent}\n",
    "\n",
    "            Informacije: {basic}\n",
    "\n",
    "        POROČILO:\n",
    "            {content}\n",
    "    \"\"\" \n",
    "\n",
    "    prompt += example_prompt\n",
    "\n",
    "\n",
    "add_example = f\"\"\"\n",
    "        INFORMACIJE:\n",
    "            Nujne informacije: {test_urgent}\n",
    "\n",
    "            Informacije: {test_basic}\n",
    "\n",
    "        POROČILO:\n",
    "    \"\"\" \n",
    "\n",
    "prompt += add_example\n",
    "\n",
    "print(prompt)\n"
   ]
  },
  {
   "cell_type": "code",
   "execution_count": null,
   "id": "7382456b",
   "metadata": {},
   "outputs": [
    {
     "name": "stdout",
     "output_type": "stream",
     "text": [
      "Napiši poročilo iz podanih informacij. V primeru nujnih informacij jih obvezno vključi v poročilo, kot v primerih. \n",
      "Podanih imaš nekaj primerov.\n",
      "\n",
      "    PRIMER 4: \n",
      "\n",
      "        INFORMACIJE:\n",
      "            Nujne informacije: nan\n",
      "\n",
      "            Informacije: Vreme\n",
      "Ponekod po Sloveniji megla v pasovih zmanjšuje vidljivost. Prilagodite hitrost!\n",
      "Omejitve za tovorna vozila\n",
      "Po Sloveniji velja med prazniki omejitev za tovorna vozila z največjo dovoljeno maso nad 7,5 ton:\n",
      "- danes, 1. 1., od 8. do 22. ure;\n",
      "- v nedeljo, 2. 1., od 8. do 22. ure.\n",
      "Od 30. decembra je v veljavi sprememba omejitve za tovorna vozila nad 7,5 ton. Več.\n",
      "Dela\n",
      "Na primorski avtocesti je ponovno odprt priključek Črni Kal v obe smeri.\n",
      "\n",
      "        POROČILO:\n",
      "            Podatki o prometu.\n",
      "Zaradi del je na vzhodni mariborski obvoznici v obe smeri zaprt prehitevalni pas med razcepom Dragučova in priključkom Pesnica.\n",
      "Cesta čez prelaz Vršič je prevozna le za osebna vozila z zimsko opremo.\n",
      "Ponekod po državi megla zmanjšuje vidljivost.\n",
      "\n",
      "    \n",
      "    PRIMER 5: \n",
      "\n",
      "        INFORMACIJE:\n",
      "            Nujne informacije: nan\n",
      "\n",
      "            Informacije: Vreme\n",
      "Ponekod po Sloveniji megla zmanjšuje vidljivost. Prilagodite hitrost!\n",
      "Omejitve za tovorna vozila\n",
      "Po Sloveniji velja med prazniki omejitev za tovorna vozila z največjo dovoljeno maso nad 7,5 ton:\n",
      "- danes, 1. 1., od 8. do 22. ure;\n",
      "- v nedeljo, 2. 1., od 8. do 22. ure.\n",
      "Od 30. decembra je v veljavi sprememba omejitve za tovorna vozila nad 7,5 ton. Več.\n",
      "Dela\n",
      "Na primorski avtocesti je ponovno odprt priključek Črni Kal v obe smeri.\n",
      "\n",
      "        POROČILO:\n",
      "            Podatki o prometu.\n",
      "Zaradi del je na vzhodni mariborski obvoznici v obe smeri zaprt prehitevalni pas med razcepom Dragučova in priključkom Pesnica.\n",
      "Cesta čez prelaz Vršič je prevozna le za osebna vozila z zimsko opremo.\n",
      "Ponekod po državi megla zmanjšuje vidljivost.\n",
      "\n",
      "    \n",
      "    PRIMER 6: \n",
      "\n",
      "        INFORMACIJE:\n",
      "            Nujne informacije: nan\n",
      "\n",
      "            Informacije: Vreme\n",
      "Ponekod po Sloveniji megla v pasovih zmanjšuje vidljivost. Prilagodite hitrost!\n",
      "Omejitve za tovorna vozila\n",
      "Po Sloveniji velja med prazniki omejitev za tovorna vozila z največjo dovoljeno maso nad 7,5 ton:\n",
      "- danes, od 8. do 22. ure;\n",
      "- v nedeljo, 2. 1., od 8. do 22. ure.\n",
      "Od 30. decembra je v veljavi sprememba omejitve za tovorna vozila nad 7,5 ton. Več.\n",
      "Dela\n",
      "Na primorski avtocesti je ponovno odprt priključek Črni Kal v obe smeri.\n",
      "\n",
      "        POROČILO:\n",
      "            Podatki o prometu.\n",
      "Zaradi del je na vzhodni mariborski obvoznici v obe smeri zaprt prehitevalni pas med razcepom Dragučova in priključkom Pesnica.\n",
      "Ponekod po državi megla zmanjšuje vidljivost.\n",
      "\n",
      "    \n",
      "    PRIMER 7: \n",
      "\n",
      "        INFORMACIJE:\n",
      "            Nujne informacije: nan\n",
      "\n",
      "            Informacije: Vreme\n",
      "Ponekod po Sloveniji megla v pasovih zmanjšuje vidljivost. Prilagodite hitrost!\n",
      "Omejitve za tovorna vozila\n",
      "Po Sloveniji velja med prazniki omejitev za tovorna vozila z največjo dovoljeno maso nad 7,5 ton:\n",
      "- danes, od 8. do 22. ure;\n",
      "- v nedeljo, 2. 1., od 8. do 22. ure.\n",
      "Od 30. decembra je v veljavi sprememba omejitve za tovorna vozila nad 7,5 ton. Več.\n",
      "Dela\n",
      "Na primorski avtocesti je ponovno odprt priključek Črni Kal v obe smeri.\n",
      "\n",
      "        POROČILO:\n",
      "            Podatki o prometu.\n",
      "Zaradi del je na vzhodni mariborski obvoznici v obe smeri zaprt prehitevalni pas med razcepom Dragučova in priključkom Pesnica.\n",
      "Ponekod po državi megla zmanjšuje vidljivost.\n",
      "\n",
      "    \n",
      "        INFORMACIJE:\n",
      "            Nujne informacije: Pozor!\n",
      "Zaradi gorečega vozila je zaprta gorenjska avtocesta med Brezjem in predorom Ljubno proti Ljubljani. Obvoz po vzporedni regionalni cesti med priključkoma Brezje in Podtabor.\n",
      "\n",
      "            Informacije: Nesreče\n",
      "Zaradi gorečega vozila je zaprt vozni pas na gorenjski avtocesti med Brezjem in predorom Ljubno proti Ljubljani.\n",
      "Vreme\n",
      "Ponekod po Sloveniji megla v pasovih zmanjšuje vidljivost. Prilagodite hitrost!\n",
      "Omejitve za tovorna vozila\n",
      "Po Sloveniji velja med prazniki omejitev za tovorna vozila z največjo dovoljeno maso nad 7,5 ton:\n",
      "- danes do 22. ure;\n",
      "- v nedeljo, 2. januarja, od 8. do 22. ure.\n",
      "Od 30. decembra je v veljavi sprememba omejitve za tovorna vozila nad 7,5 ton. Več.\n",
      "\n",
      "        POROČILO:\n",
      "    Podatki o prometu.\n",
      "Zaradi gorečega vozila je zaprta gorenjska avtocesta med Brezjem in predorom Ljubno proti Ljubljani. Obvoz po vzporedni regionalni cesti med priključkoma Brezje in Podtabor.\n",
      "\n",
      "    \n",
      "    PRIMER 8: \n",
      "\n",
      "        INFORMACIJE:\n",
      "            Nujne informacije: Pozor!\n",
      "Zaradi gorečega vozila je zaprta gorenjska avtocesta med Brezjem in predorom Ljubno proti Ljubljani. Obvoz po vzporedni regionalni cesti med priključkoma Brezje in Podtabor.\n",
      "\n",
      "            Informacije: Nesreče\n",
      "Zaradi gorečega vozila je zaprt vozni pas na gorenjski avtocesti med Brezjem in predorom Ljubno proti Ljubljani.\n",
      "Vreme\n",
      "Ponekod po Sloveniji megla v pasovih zmanjšuje vidljivost. Prilagodite hitrost!\n",
      "Omejitve za tovorna vozila\n",
      "Po Sloveniji velja med prazniki omejitev za tovorna vozila z največjo dovoljeno maso nad 7,5 ton:\n",
      "- danes do 22. ure;\n",
      "- v nedeljo, 2. januarja, od 8. do 22. ure.\n",
      "Od 30. decembra je v veljavi sprememba omejitve za tovorna vozila nad 7,5 ton. Več.\n",
      "\n",
      "        POROČILO:\n",
      "    Podatki o prometu.\n",
      "Zaradi gorečega vozila je zaprta gorenjska avtocesta med Brezjem in predorom Ljubno proti Ljubljani. Obvoz po vzporedni regionalni cesti med priključkoma Brezje in Podtabor.\n",
      "\n",
      "    \n",
      "    PRIMER 9: \n",
      "\n",
      "        INFORMACIJE:\n",
      "            Nujne informacije: Pozor!\n",
      "Zaradi gorečega vozila je zaprta gorenjska avtocesta med Brezjem in predorom Ljubno proti Ljubljani. Obvoz po vzporedni regionalni cesti med priključkoma Brezje in Podtabor.\n",
      "\n",
      "            Informacije: Nesreče\n",
      "Zaradi gorečega vozila je zaprt vozni pas na gorenjski avtocesti med\n"
     ]
    }
   ],
   "source": [
    "res = pline(prompt, max_new_tokens=512)\n",
    "print(res[0][\"generated_text\"])\n",
    "\n"
   ]
  },
  {
   "cell_type": "code",
   "execution_count": 31,
   "id": "50ad40ee",
   "metadata": {},
   "outputs": [
    {
     "name": "stdout",
     "output_type": "stream",
     "text": [
      "Zaradi gorečega vozila je zaprta gorenjska avtocesta med Brezjem in predorom Ljubno proti Ljubljani. Obvoz po vzporedni regionalni cesti med priključkoma Brezje in Podtabor.\n",
      "Podatki o prometu.\n",
      "Gorenjska avtocesta proti Ljubljani je zaradi gorečega vozila zaprta med priključkoma Brezje in Podtabor. Obvoz je po vzporedni regionalni cesti.\n",
      "Danes do 21-ih velja prepoved prometa tovornih vozil, težjih od 7 ton in pol.\n",
      "\n"
     ]
    }
   ],
   "source": [
    "print(\"Zaradi gorečega vozila je zaprta gorenjska avtocesta med Brezjem in predorom Ljubno proti Ljubljani. Obvoz po vzporedni regionalni cesti med priključkoma Brezje in Podtabor.\")\n",
    "\n",
    "print(test_content)"
   ]
  }
 ],
 "metadata": {
  "kernelspec": {
   "display_name": "nlp-project",
   "language": "python",
   "name": "python3"
  },
  "language_info": {
   "codemirror_mode": {
    "name": "ipython",
    "version": 3
   },
   "file_extension": ".py",
   "mimetype": "text/x-python",
   "name": "python",
   "nbconvert_exporter": "python",
   "pygments_lexer": "ipython3",
   "version": "3.11.11"
  }
 },
 "nbformat": 4,
 "nbformat_minor": 5
}
